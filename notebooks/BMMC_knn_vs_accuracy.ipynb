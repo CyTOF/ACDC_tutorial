{
 "cells": [
  {
   "cell_type": "code",
   "execution_count": 1,
   "metadata": {
    "collapsed": true
   },
   "outputs": [],
   "source": [
    "from ACDC.random_walk_classifier import * \n",
    "from ACDC.cell_type_annotation import * "
   ]
  },
  {
   "cell_type": "code",
   "execution_count": 2,
   "metadata": {
    "collapsed": false
   },
   "outputs": [],
   "source": [
    "import time\n",
    "import pandas as pd\n",
    "import numpy as np\n",
    "from collections import Counter\n",
    "import pickle\n",
    "\n",
    "channels = ['CD45','CD45RA', 'CD19', 'CD11b', 'CD4', 'CD8', 'CD34',\n",
    "           'CD20', 'CD33', 'CD123', 'CD38', 'CD90', 'CD3']\n",
    "\n",
    "path = 'data/BMMC_benchmark/'\n",
    "\n",
    "df = pd.read_csv(path + 'BMMC_benchmark.csv.gz', sep=',', header = 0, compression = 'gzip')\n",
    "df = df[df.cell_type != 'NotGated']\n",
    "\n",
    "\n",
    "table = pd.read_csv(path + 'BMMC_table.csv', sep=',', header=0, index_col=0)\n",
    "table = table.fillna(0)\n",
    "\n",
    "cts, channels = get_label(table)\n",
    "\n",
    "X0= np.arcsinh((df[channels].values - 1.0)/5.0)"
   ]
  },
  {
   "cell_type": "code",
   "execution_count": 3,
   "metadata": {
    "collapsed": true
   },
   "outputs": [],
   "source": [
    "idx2ct = [key for idx, key in enumerate(table.index)]\n",
    "idx2ct.append('unknown')\n",
    "\n",
    "ct2idx = {key:idx for idx, key in enumerate(table.index)}\n",
    "ct2idx['unknown'] = len(table.index)\n",
    "        \n",
    "ct_score = np.abs(table.as_matrix()).sum(axis = 1)\n",
    "\n",
    "## compute manual gated label\n",
    "y0 = np.zeros(df.cell_type.shape)\n",
    "\n",
    "for i, ct in enumerate(df.cell_type):\n",
    "    if ct in ct2idx:\n",
    "        y0[i] = ct2idx[ct]\n",
    "    else:\n",
    "        y0[i] = ct2idx['unknown']"
   ]
  },
  {
   "cell_type": "code",
   "execution_count": 4,
   "metadata": {
    "collapsed": false
   },
   "outputs": [],
   "source": [
    "from sklearn.metrics import accuracy_score, confusion_matrix\n",
    "import phenograph\n",
    "\n",
    "\n",
    "thres = 0.5\n"
   ]
  },
  {
   "cell_type": "code",
   "execution_count": 5,
   "metadata": {
    "collapsed": false
   },
   "outputs": [
    {
     "name": "stdout",
     "output_type": "stream",
     "text": [
      "Finding 30 nearest neighbors using minkowski metric and 'auto' algorithm\n",
      "Neighbors computed in 16.506507873535156 seconds\n",
      "Jaccard graph constructed in 6.77113676071167 seconds\n",
      "Wrote graph to binary file in 4.350315093994141 seconds\n",
      "Running Louvain modularity optimization\n",
      "After 1 runs, maximum modularity is Q = 0.87792\n",
      "After 10 runs, maximum modularity is Q = 0.879066\n",
      "Louvain completed 30 runs in 174.9412968158722 seconds\n",
      "PhenoGraph complete in 203.71706223487854 seconds\n",
      "125.84516500000001\n"
     ]
    }
   ],
   "source": [
    "tic = time.clock()\n",
    "phenograph.cluster(X0)\n",
    "toc = time.clock()\n",
    "print(toc-tic)"
   ]
  },
  {
   "cell_type": "code",
   "execution_count": 6,
   "metadata": {
    "collapsed": false,
    "scrolled": true
   },
   "outputs": [
    {
     "name": "stdout",
     "output_type": "stream",
     "text": [
      "Finding 30 nearest neighbors using minkowski metric and 'auto' algorithm\n",
      "Neighbors computed in 1.8151025772094727 seconds\n",
      "Jaccard graph constructed in 1.1808147430419922 seconds\n",
      "Wrote graph to binary file in 0.5162525177001953 seconds\n",
      "Running Louvain modularity optimization\n",
      "After 1 runs, maximum modularity is Q = 0.649863\n",
      "After 2 runs, maximum modularity is Q = 0.651331\n",
      "After 4 runs, maximum modularity is Q = 0.65239\n",
      "After 9 runs, maximum modularity is Q = 0.654965\n",
      "Louvain completed 29 runs in 10.2366361618042 seconds\n",
      "PhenoGraph complete in 13.908045291900635 seconds\n",
      "Finding 30 nearest neighbors using minkowski metric and 'auto' algorithm\n",
      "Neighbors computed in 0.5077486038208008 seconds\n",
      "Jaccard graph constructed in 0.649843692779541 seconds\n",
      "Wrote graph to binary file in 0.32376813888549805 seconds\n",
      "Running Louvain modularity optimization\n",
      "After 1 runs, maximum modularity is Q = 0.600011\n",
      "After 2 runs, maximum modularity is Q = 0.603739\n",
      "After 5 runs, maximum modularity is Q = 0.607146\n",
      "After 25 runs, maximum modularity is Q = 0.610634\n",
      "Louvain completed 45 runs in 7.823443651199341 seconds\n",
      "PhenoGraph complete in 9.382489204406738 seconds\n",
      "Finding 30 nearest neighbors using minkowski metric and 'auto' algorithm\n",
      "Neighbors computed in 0.4076824188232422 seconds\n",
      "Jaccard graph constructed in 0.5491902828216553 seconds\n",
      "Wrote graph to binary file in 0.26813697814941406 seconds\n",
      "Running Louvain modularity optimization\n",
      "After 1 runs, maximum modularity is Q = 0.657647\n",
      "After 8 runs, maximum modularity is Q = 0.659305\n",
      "Louvain completed 28 runs in 2.9562370777130127 seconds\n",
      "PhenoGraph complete in 4.233199834823608 seconds\n",
      "Finding 30 nearest neighbors using minkowski metric and 'auto' algorithm\n",
      "Neighbors computed in 0.8082735538482666 seconds\n",
      "Jaccard graph constructed in 0.7434403896331787 seconds\n",
      "Wrote graph to binary file in 0.3896491527557373 seconds\n",
      "Running Louvain modularity optimization\n",
      "After 1 runs, maximum modularity is Q = 0.635114\n",
      "After 3 runs, maximum modularity is Q = 0.637472\n",
      "After 9 runs, maximum modularity is Q = 0.638762\n",
      "After 22 runs, maximum modularity is Q = 0.641445\n",
      "Louvain completed 42 runs in 7.939336776733398 seconds\n",
      "PhenoGraph complete in 9.969274044036865 seconds\n",
      "Finding 30 nearest neighbors using minkowski metric and 'auto' algorithm\n",
      "Neighbors computed in 0.305682897567749 seconds\n",
      "Jaccard graph constructed in 0.46656084060668945 seconds\n",
      "Wrote graph to binary file in 0.20101070404052734 seconds\n",
      "Running Louvain modularity optimization\n",
      "After 1 runs, maximum modularity is Q = 0.58082\n",
      "After 2 runs, maximum modularity is Q = 0.583609\n",
      "After 3 runs, maximum modularity is Q = 0.58487\n",
      "Louvain completed 23 runs in 2.559602975845337 seconds\n",
      "PhenoGraph complete in 3.581460475921631 seconds\n",
      "Finding 30 nearest neighbors using minkowski metric and 'auto' algorithm\n",
      "Neighbors computed in 0.1032717227935791 seconds\n",
      "Jaccard graph constructed in 0.13541436195373535 seconds\n",
      "Wrote graph to binary file in 0.03151869773864746 seconds\n",
      "Running Louvain modularity optimization\n",
      "After 1 runs, maximum modularity is Q = 0.498783\n",
      "After 5 runs, maximum modularity is Q = 0.503015\n",
      "After 7 runs, maximum modularity is Q = 0.504259\n",
      "After 10 runs, maximum modularity is Q = 0.505773\n",
      "After 23 runs, maximum modularity is Q = 0.513364\n",
      "Louvain completed 43 runs in 0.9936785697937012 seconds\n",
      "PhenoGraph complete in 1.2725591659545898 seconds\n",
      "Finding 30 nearest neighbors using minkowski metric and 'auto' algorithm\n",
      "Neighbors computed in 0.10324835777282715 seconds\n",
      "Jaccard graph constructed in 0.1053011417388916 seconds\n",
      "Wrote graph to binary file in 0.017614126205444336 seconds\n",
      "Running Louvain modularity optimization\n",
      "After 1 runs, maximum modularity is Q = 0.576772\n",
      "After 2 runs, maximum modularity is Q = 0.579968\n",
      "After 9 runs, maximum modularity is Q = 0.582231\n",
      "After 12 runs, maximum modularity is Q = 0.58331\n",
      "Louvain completed 32 runs in 0.629544734954834 seconds\n",
      "PhenoGraph complete in 0.862494707107544 seconds\n",
      "Finding 30 nearest neighbors using minkowski metric and 'auto' algorithm\n",
      "Neighbors computed in 0.10426115989685059 seconds\n",
      "Jaccard graph constructed in 0.19219350814819336 seconds\n",
      "Wrote graph to binary file in 0.10794353485107422 seconds\n",
      "Running Louvain modularity optimization\n",
      "After 1 runs, maximum modularity is Q = 0.667348\n",
      "After 2 runs, maximum modularity is Q = 0.674139\n",
      "After 22 runs, maximum modularity is Q = 0.676141\n",
      "Louvain completed 42 runs in 1.2675378322601318 seconds\n",
      "PhenoGraph complete in 1.6870245933532715 seconds\n",
      "Finding 30 nearest neighbors using minkowski metric and 'auto' algorithm\n",
      "Neighbors computed in 0.10332608222961426 seconds\n",
      "Jaccard graph constructed in 0.14002490043640137 seconds\n",
      "Wrote graph to binary file in 0.027182817459106445 seconds\n",
      "Running Louvain modularity optimization\n",
      "After 1 runs, maximum modularity is Q = 0.676085\n",
      "After 2 runs, maximum modularity is Q = 0.679189\n",
      "Louvain completed 22 runs in 0.48602867126464844 seconds\n",
      "PhenoGraph complete in 0.7656712532043457 seconds\n",
      "Finding 30 nearest neighbors using minkowski metric and 'auto' algorithm\n",
      "Neighbors computed in 0.20663189888000488 seconds\n",
      "Jaccard graph constructed in 0.44051384925842285 seconds\n",
      "Wrote graph to binary file in 0.1962575912475586 seconds\n",
      "Running Louvain modularity optimization\n",
      "After 1 runs, maximum modularity is Q = 0.617759\n",
      "After 13 runs, maximum modularity is Q = 0.618847\n",
      "Louvain completed 33 runs in 3.1571617126464844 seconds\n",
      "PhenoGraph complete in 4.051175117492676 seconds\n",
      "Finding 30 nearest neighbors using minkowski metric and 'auto' algorithm\n",
      "Neighbors computed in 0.10333395004272461 seconds\n",
      "Jaccard graph constructed in 0.18749165534973145 seconds\n",
      "Wrote graph to binary file in 0.07949638366699219 seconds\n",
      "Running Louvain modularity optimization\n",
      "After 1 runs, maximum modularity is Q = 0.653508\n",
      "After 6 runs, maximum modularity is Q = 0.655019\n",
      "Louvain completed 26 runs in 0.7803409099578857 seconds\n",
      "PhenoGraph complete in 1.1638245582580566 seconds\n",
      "Finding 30 nearest neighbors using minkowski metric and 'auto' algorithm\n",
      "Neighbors computed in 0.10410642623901367 seconds\n",
      "Jaccard graph constructed in 0.2777540683746338 seconds\n",
      "Wrote graph to binary file in 0.07816147804260254 seconds\n",
      "Running Louvain modularity optimization\n",
      "After 1 runs, maximum modularity is Q = 0.614053\n",
      "After 2 runs, maximum modularity is Q = 0.616384\n",
      "After 4 runs, maximum modularity is Q = 0.618476\n",
      "After 6 runs, maximum modularity is Q = 0.619812\n",
      "After 24 runs, maximum modularity is Q = 0.62143\n",
      "Louvain completed 44 runs in 2.371006965637207 seconds\n",
      "PhenoGraph complete in 2.856212854385376 seconds\n",
      "Finding 30 nearest neighbors using minkowski metric and 'auto' algorithm\n",
      "Neighbors computed in 0.10355567932128906 seconds\n",
      "Jaccard graph constructed in 0.08978414535522461 seconds\n",
      "Wrote graph to binary file in 0.007912397384643555 seconds\n",
      "Running Louvain modularity optimization\n",
      "After 1 runs, maximum modularity is Q = 0.555175\n",
      "After 6 runs, maximum modularity is Q = 0.556188\n",
      "After 12 runs, maximum modularity is Q = 0.55759\n",
      "Louvain completed 32 runs in 0.5008609294891357 seconds\n",
      "PhenoGraph complete in 0.7073886394500732 seconds\n",
      "Finding 30 nearest neighbors using minkowski metric and 'auto' algorithm\n",
      "Neighbors computed in 0.10297393798828125 seconds\n",
      "Jaccard graph constructed in 0.10356640815734863 seconds\n",
      "Wrote graph to binary file in 0.013140201568603516 seconds\n",
      "Running Louvain modularity optimization\n",
      "After 1 runs, maximum modularity is Q = 0.518076\n",
      "Louvain completed 21 runs in 0.33649420738220215 seconds\n",
      "PhenoGraph complete in 0.5620615482330322 seconds\n",
      "Finding 30 nearest neighbors using minkowski metric and 'auto' algorithm\n",
      "Neighbors computed in 0.10378289222717285 seconds\n",
      "Jaccard graph constructed in 0.11422109603881836 seconds\n",
      "Wrote graph to binary file in 0.016054153442382812 seconds\n",
      "Running Louvain modularity optimization\n",
      "After 1 runs, maximum modularity is Q = 0.498419\n",
      "Louvain completed 21 runs in 0.37143802642822266 seconds\n",
      "PhenoGraph complete in 0.6117644309997559 seconds\n",
      "Finding 30 nearest neighbors using minkowski metric and 'auto' algorithm\n",
      "Neighbors computed in 0.10364437103271484 seconds\n",
      "Jaccard graph constructed in 0.14060330390930176 seconds\n",
      "Wrote graph to binary file in 0.0777432918548584 seconds\n",
      "Running Louvain modularity optimization\n",
      "After 1 runs, maximum modularity is Q = 0.623331\n",
      "After 3 runs, maximum modularity is Q = 0.626317\n",
      "Louvain completed 23 runs in 0.5393047332763672 seconds\n",
      "PhenoGraph complete in 0.8694219589233398 seconds\n",
      "Finding 30 nearest neighbors using minkowski metric and 'auto' algorithm\n",
      "Neighbors computed in 0.10333704948425293 seconds\n",
      "Jaccard graph constructed in 0.09481310844421387 seconds\n",
      "Wrote graph to binary file in 0.008763790130615234 seconds\n",
      "Running Louvain modularity optimization\n",
      "After 1 runs, maximum modularity is Q = 0.53388\n",
      "Louvain completed 21 runs in 0.3121681213378906 seconds\n",
      "PhenoGraph complete in 0.5246164798736572 seconds\n",
      "Finding 30 nearest neighbors using minkowski metric and 'auto' algorithm\n",
      "Neighbors computed in 0.10452675819396973 seconds\n",
      "Jaccard graph constructed in 0.17748045921325684 seconds\n",
      "Wrote graph to binary file in 0.035225868225097656 seconds\n",
      "Running Louvain modularity optimization\n",
      "After 1 runs, maximum modularity is Q = 0.629861\n",
      "After 2 runs, maximum modularity is Q = 0.632071\n",
      "After 3 runs, maximum modularity is Q = 0.634652\n",
      "After 4 runs, maximum modularity is Q = 0.636005\n",
      "After 21 runs, maximum modularity is Q = 0.6382\n",
      "Louvain completed 41 runs in 1.25724458694458 seconds\n",
      "PhenoGraph complete in 1.5883228778839111 seconds\n",
      "Finding 30 nearest neighbors using minkowski metric and 'auto' algorithm\n",
      "Neighbors computed in 0.10567140579223633 seconds\n",
      "Jaccard graph constructed in 0.23237204551696777 seconds\n",
      "Wrote graph to binary file in 0.07071995735168457 seconds\n",
      "Running Louvain modularity optimization\n",
      "After 1 runs, maximum modularity is Q = 0.716243\n",
      "Louvain completed 21 runs in 0.7945876121520996 seconds\n",
      "PhenoGraph complete in 1.2221832275390625 seconds\n",
      "Finding 30 nearest neighbors using minkowski metric and 'auto' algorithm\n",
      "Neighbors computed in 2.9320576190948486 seconds\n",
      "Jaccard graph constructed in 2.5943527221679688 seconds\n",
      "Wrote graph to binary file in 1.5937259197235107 seconds\n",
      "Running Louvain modularity optimization\n",
      "After 1 runs, maximum modularity is Q = 0.850425\n",
      "After 14 runs, maximum modularity is Q = 0.85193\n",
      "Louvain completed 34 runs in 30.32134771347046 seconds\n",
      "PhenoGraph complete in 37.78928279876709 seconds\n"
     ]
    }
   ],
   "source": [
    "\n",
    "\n",
    "result = []\n",
    "score_final = []\n",
    "process_time = []\n",
    "\n",
    "    \n",
    "X = X0\n",
    "y_true = y0\n",
    "\n",
    "tic = time.clock()\n",
    "mk_model =  compute_marker_model(pd.DataFrame(X, columns = channels), table, 0.0)\n",
    "\n",
    "## compute posterior probs\n",
    "score = get_score_mat(X, [], table, [], mk_model)\n",
    "score = np.concatenate([score, 1.0 - score.max(axis = 1)[:, np.newaxis]], axis = 1)    \n",
    "\n",
    "## get indices     \n",
    "ct_index = get_unique_index(X, score, table, thres)\n",
    "    \n",
    "\n",
    "## running ACDC\n",
    "tic = time.clock()\n",
    "res_c = get_landmarks(X, score, ct_index, idx2ct, phenograph, thres)\n",
    "\n",
    "landmark_mat, landmark_label = output_feature_matrix(res_c, [idx2ct[i] for i in range(len(idx2ct))]) \n",
    "\n",
    "landmark_label = np.array(landmark_label)\n",
    "\n",
    "toc = time.clock()\n",
    "\n",
    "time0 = toc - tic"
   ]
  },
  {
   "cell_type": "code",
   "execution_count": 7,
   "metadata": {
    "collapsed": false
   },
   "outputs": [
    {
     "name": "stdout",
     "output_type": "stream",
     "text": [
      "[245.519975, 309.009604, 376.5867919999999]\n",
      "[0.92029065286799516, 0.92245586994018125, 0.92498807295680574]\n"
     ]
    }
   ],
   "source": [
    "score_final = []\n",
    "process_time = []\n",
    "for n_neighbor in [10, 20, 30]:\n",
    "    tic = time.clock()\n",
    "    \n",
    "    lp, y_pred = rm_classify(X, landmark_mat, landmark_label, n_neighbor)\n",
    "    \n",
    "    toc = time.clock()\n",
    "    time1 = toc - tic\n",
    "    \n",
    "    process_time.append(time0 + time1)\n",
    "\n",
    "    score_final.append(accuracy_score(y_true, [ct2idx[c] for c in y_pred]))    \n",
    "    \n",
    "print(process_time)\n",
    "print(score_final)"
   ]
  },
  {
   "cell_type": "code",
   "execution_count": 8,
   "metadata": {
    "collapsed": false
   },
   "outputs": [
    {
     "data": {
      "text/plain": [
       "(81747, 13)"
      ]
     },
     "execution_count": 8,
     "metadata": {},
     "output_type": "execute_result"
    }
   ],
   "source": [
    "X.shape"
   ]
  },
  {
   "cell_type": "code",
   "execution_count": null,
   "metadata": {
    "collapsed": true
   },
   "outputs": [],
   "source": []
  }
 ],
 "metadata": {
  "anaconda-cloud": {},
  "kernelspec": {
   "display_name": "Python [conda env:py35]",
   "language": "python",
   "name": "conda-env-py35-py"
  },
  "language_info": {
   "codemirror_mode": {
    "name": "ipython",
    "version": 3
   },
   "file_extension": ".py",
   "mimetype": "text/x-python",
   "name": "python",
   "nbconvert_exporter": "python",
   "pygments_lexer": "ipython3",
   "version": "3.5.2"
  }
 },
 "nbformat": 4,
 "nbformat_minor": 1
}
