{
 "cells": [
  {
   "cell_type": "code",
   "execution_count": 1,
   "metadata": {
    "collapsed": true
   },
   "outputs": [],
   "source": [
    "from ACDC.random_walk_classifier import * \n",
    "from ACDC.cell_type_annotation import * "
   ]
  },
  {
   "cell_type": "code",
   "execution_count": 2,
   "metadata": {
    "collapsed": false
   },
   "outputs": [],
   "source": [
    "import pandas as pd\n",
    "import numpy as np\n",
    "from collections import Counter\n",
    "import pickle\n",
    "\n",
    "channels = ['CD45','CD45RA', 'CD19', 'CD11b', 'CD4', 'CD8', 'CD34',\n",
    "           'CD20', 'CD33', 'CD123', 'CD38', 'CD90', 'CD3']\n",
    "\n",
    "path = 'data/BMMC_benchmark/'\n",
    "\n",
    "df = pd.read_csv(path + 'BMMC_benchmark.csv.gz', sep=',', header = 0, compression = 'gzip')\n",
    "df = df[df.cell_type != 'NotGated']\n",
    "\n",
    "\n",
    "table = pd.read_csv(path + 'BMMC_table.csv', sep=',', header=0, index_col=0)\n",
    "table = table.fillna(0)\n",
    "\n",
    "cts, channels = get_label(table)\n",
    "\n",
    "X0= np.arcsinh((df[channels].values - 1.0)/5.0)"
   ]
  },
  {
   "cell_type": "code",
   "execution_count": 3,
   "metadata": {
    "collapsed": true
   },
   "outputs": [],
   "source": [
    "idx2ct = [key for idx, key in enumerate(table.index)]\n",
    "idx2ct.append('unknown')\n",
    "\n",
    "ct2idx = {key:idx for idx, key in enumerate(table.index)}\n",
    "ct2idx['unknown'] = len(table.index)\n",
    "        \n",
    "ct_score = np.abs(table.as_matrix()).sum(axis = 1)\n",
    "\n",
    "## compute manual gated label\n",
    "y0 = np.zeros(df.cell_type.shape)\n",
    "\n",
    "for i, ct in enumerate(df.cell_type):\n",
    "    if ct in ct2idx:\n",
    "        y0[i] = ct2idx[ct]\n",
    "    else:\n",
    "        y0[i] = ct2idx['unknown']"
   ]
  },
  {
   "cell_type": "code",
   "execution_count": 4,
   "metadata": {
    "collapsed": false
   },
   "outputs": [
    {
     "name": "stderr",
     "output_type": "stream",
     "text": [
      "/home/hcl/.local/lib/python3.5/site-packages/sklearn/cross_validation.py:44: DeprecationWarning: This module was deprecated in version 0.18 in favor of the model_selection module into which all the refactored classes and functions are moved. Also note that the interface of the new CV iterators are different from that of this module. This module will be removed in 0.20.\n",
      "  \"This module will be removed in 0.20.\", DeprecationWarning)\n"
     ]
    }
   ],
   "source": [
    "from sklearn.metrics import accuracy_score, confusion_matrix\n",
    "import phenograph\n",
    "from sklearn.cross_validation import StratifiedKFold\n",
    "\n",
    "n_neighbor = 10\n",
    "thres = 0.5\n"
   ]
  },
  {
   "cell_type": "code",
   "execution_count": 5,
   "metadata": {
    "collapsed": false,
    "scrolled": true
   },
   "outputs": [
    {
     "name": "stdout",
     "output_type": "stream",
     "text": [
      "00 th batch\n",
      "Finding 30 nearest neighbors using minkowski metric and 'auto' algorithm\n",
      "Neighbors computed in 1.8256051540374756 seconds\n",
      "Jaccard graph constructed in 2.8416688442230225 seconds\n",
      "Wrote graph to binary file in 0.5134050846099854 seconds\n",
      "Running Louvain modularity optimization\n",
      "After 1 runs, maximum modularity is Q = 0.647462\n",
      "After 2 runs, maximum modularity is Q = 0.648731\n",
      "After 5 runs, maximum modularity is Q = 0.650541\n",
      "After 22 runs, maximum modularity is Q = 0.652927\n",
      "Louvain completed 42 runs in 10.83075737953186 seconds\n",
      "PhenoGraph complete in 16.135114431381226 seconds\n",
      "Finding 30 nearest neighbors using minkowski metric and 'auto' algorithm\n",
      "Neighbors computed in 0.6575868129730225 seconds\n",
      "Jaccard graph constructed in 1.4914629459381104 seconds\n",
      "Wrote graph to binary file in 0.23052763938903809 seconds\n",
      "Running Louvain modularity optimization\n",
      "After 1 runs, maximum modularity is Q = 0.60274\n",
      "After 4 runs, maximum modularity is Q = 0.607587\n",
      "Louvain completed 24 runs in 3.156177520751953 seconds\n",
      "PhenoGraph complete in 5.594192028045654 seconds\n",
      "Finding 30 nearest neighbors using minkowski metric and 'auto' algorithm\n",
      "Neighbors computed in 0.3564565181732178 seconds\n",
      "Jaccard graph constructed in 1.0543293952941895 seconds\n",
      "Wrote graph to binary file in 0.17464351654052734 seconds\n",
      "Running Louvain modularity optimization\n",
      "After 1 runs, maximum modularity is Q = 0.651373\n",
      "After 9 runs, maximum modularity is Q = 0.655128\n",
      "Louvain completed 29 runs in 2.3789291381835938 seconds\n",
      "PhenoGraph complete in 4.004740953445435 seconds\n",
      "Finding 30 nearest neighbors using minkowski metric and 'auto' algorithm\n",
      "Neighbors computed in 0.7588808536529541 seconds\n",
      "Jaccard graph constructed in 1.7296175956726074 seconds\n",
      "Wrote graph to binary file in 0.31426382064819336 seconds\n",
      "Running Louvain modularity optimization\n",
      "After 1 runs, maximum modularity is Q = 0.633727\n",
      "After 2 runs, maximum modularity is Q = 0.636203\n",
      "After 3 runs, maximum modularity is Q = 0.637307\n",
      "Louvain completed 23 runs in 3.441120147705078 seconds\n",
      "PhenoGraph complete in 6.312293529510498 seconds\n",
      "Finding 30 nearest neighbors using minkowski metric and 'auto' algorithm\n",
      "Neighbors computed in 0.27025866508483887 seconds\n",
      "Jaccard graph constructed in 1.019261121749878 seconds\n",
      "Wrote graph to binary file in 0.1678023338317871 seconds\n",
      "Running Louvain modularity optimization\n",
      "After 1 runs, maximum modularity is Q = 0.571877\n",
      "After 2 runs, maximum modularity is Q = 0.574201\n",
      "After 7 runs, maximum modularity is Q = 0.579073\n",
      "Louvain completed 27 runs in 2.3456647396087646 seconds\n",
      "PhenoGraph complete in 3.840702772140503 seconds\n",
      "Finding 30 nearest neighbors using minkowski metric and 'auto' algorithm\n",
      "Neighbors computed in 0.009267807006835938 seconds\n",
      "Jaccard graph constructed in 0.1450660228729248 seconds\n",
      "Wrote graph to binary file in 0.016439437866210938 seconds\n",
      "Running Louvain modularity optimization\n",
      "After 1 runs, maximum modularity is Q = 0.491496\n",
      "After 4 runs, maximum modularity is Q = 0.493431\n",
      "After 14 runs, maximum modularity is Q = 0.495352\n",
      "Louvain completed 34 runs in 0.5654003620147705 seconds\n",
      "PhenoGraph complete in 0.7431821823120117 seconds\n",
      "Finding 30 nearest neighbors using minkowski metric and 'auto' algorithm\n",
      "Neighbors computed in 0.004815578460693359 seconds\n",
      "Jaccard graph constructed in 0.08635854721069336 seconds\n",
      "Wrote graph to binary file in 0.009626388549804688 seconds\n",
      "Running Louvain modularity optimization\n",
      "After 1 runs, maximum modularity is Q = 0.568409\n",
      "After 2 runs, maximum modularity is Q = 0.570182\n",
      "After 4 runs, maximum modularity is Q = 0.571333\n",
      "Louvain completed 24 runs in 0.35035133361816406 seconds\n",
      "PhenoGraph complete in 0.45634937286376953 seconds\n",
      "Finding 30 nearest neighbors using minkowski metric and 'auto' algorithm\n",
      "Neighbors computed in 0.03427243232727051 seconds\n",
      "Jaccard graph constructed in 0.2959461212158203 seconds\n",
      "Wrote graph to binary file in 0.03393101692199707 seconds\n",
      "Running Louvain modularity optimization\n",
      "After 1 runs, maximum modularity is Q = 0.656245\n",
      "After 5 runs, maximum modularity is Q = 0.658763\n",
      "After 9 runs, maximum modularity is Q = 0.659845\n",
      "Louvain completed 29 runs in 0.7010996341705322 seconds\n",
      "PhenoGraph complete in 1.075885534286499 seconds\n",
      "Finding 30 nearest neighbors using minkowski metric and 'auto' algorithm\n",
      "Neighbors computed in 0.009161949157714844 seconds\n",
      "Jaccard graph constructed in 0.16263890266418457 seconds\n",
      "Wrote graph to binary file in 0.017282485961914062 seconds\n",
      "Running Louvain modularity optimization\n",
      "After 1 runs, maximum modularity is Q = 0.673323\n",
      "After 3 runs, maximum modularity is Q = 0.674532\n",
      "Louvain completed 23 runs in 0.390918493270874 seconds\n",
      "PhenoGraph complete in 0.5875992774963379 seconds\n",
      "Finding 30 nearest neighbors using minkowski metric and 'auto' algorithm\n",
      "Neighbors computed in 0.21128201484680176 seconds\n",
      "Jaccard graph constructed in 0.9543650150299072 seconds\n",
      "Wrote graph to binary file in 0.15370965003967285 seconds\n",
      "Running Louvain modularity optimization\n",
      "After 1 runs, maximum modularity is Q = 0.600295\n",
      "After 3 runs, maximum modularity is Q = 0.60253\n",
      "After 9 runs, maximum modularity is Q = 0.604237\n",
      "Louvain completed 29 runs in 2.1746814250946045 seconds\n",
      "PhenoGraph complete in 3.5307819843292236 seconds\n",
      "Finding 30 nearest neighbors using minkowski metric and 'auto' algorithm\n",
      "Neighbors computed in 0.019283056259155273 seconds\n",
      "Jaccard graph constructed in 0.2514078617095947 seconds\n",
      "Wrote graph to binary file in 0.02861785888671875 seconds\n",
      "Running Louvain modularity optimization\n",
      "After 1 runs, maximum modularity is Q = 0.645627\n",
      "After 3 runs, maximum modularity is Q = 0.647585\n",
      "After 15 runs, maximum modularity is Q = 0.649637\n",
      "Louvain completed 35 runs in 0.7911984920501709 seconds\n",
      "PhenoGraph complete in 1.0995855331420898 seconds\n",
      "Finding 30 nearest neighbors using minkowski metric and 'auto' algorithm\n",
      "Neighbors computed in 0.09403038024902344 seconds\n",
      "Jaccard graph constructed in 0.5203847885131836 seconds\n",
      "Wrote graph to binary file in 0.10335278511047363 seconds\n",
      "Running Louvain modularity optimization\n",
      "After 1 runs, maximum modularity is Q = 0.584149\n",
      "After 2 runs, maximum modularity is Q = 0.588247\n",
      "After 10 runs, maximum modularity is Q = 0.590033\n",
      "After 27 runs, maximum modularity is Q = 0.592176\n",
      "After 47 runs, maximum modularity is Q = 0.593897\n",
      "Louvain completed 67 runs in 2.5295913219451904 seconds\n",
      "PhenoGraph complete in 3.2658348083496094 seconds\n",
      "Finding 30 nearest neighbors using minkowski metric and 'auto' algorithm\n",
      "Neighbors computed in 0.0020291805267333984 seconds\n",
      "Jaccard graph constructed in 0.02995777130126953 seconds\n",
      "Wrote graph to binary file in 0.0038022994995117188 seconds\n",
      "Running Louvain modularity optimization\n",
      "After 1 runs, maximum modularity is Q = 0.53213\n",
      "Louvain completed 21 runs in 0.18899083137512207 seconds\n",
      "PhenoGraph complete in 0.22869110107421875 seconds\n",
      "Finding 30 nearest neighbors using minkowski metric and 'auto' algorithm\n",
      "Neighbors computed in 0.0037636756896972656 seconds\n",
      "Jaccard graph constructed in 0.06339836120605469 seconds\n",
      "Wrote graph to binary file in 0.006891727447509766 seconds\n",
      "Running Louvain modularity optimization\n",
      "After 1 runs, maximum modularity is Q = 0.495911\n",
      "After 3 runs, maximum modularity is Q = 0.498599\n",
      "Louvain completed 23 runs in 0.28578853607177734 seconds\n",
      "PhenoGraph complete in 0.36429667472839355 seconds\n",
      "Finding 30 nearest neighbors using minkowski metric and 'auto' algorithm\n",
      "Neighbors computed in 0.005303144454956055 seconds\n",
      "Jaccard graph constructed in 0.07931637763977051 seconds\n",
      "Wrote graph to binary file in 0.008900880813598633 seconds\n",
      "Running Louvain modularity optimization\n",
      "After 1 runs, maximum modularity is Q = 0.463033\n",
      "After 13 runs, maximum modularity is Q = 0.464938\n",
      "After 30 runs, maximum modularity is Q = 0.466166\n",
      "Louvain completed 50 runs in 0.6013445854187012 seconds\n",
      "PhenoGraph complete in 0.6999123096466064 seconds\n",
      "Finding 30 nearest neighbors using minkowski metric and 'auto' algorithm\n",
      "Neighbors computed in 0.010268926620483398 seconds\n",
      "Jaccard graph constructed in 0.1364893913269043 seconds\n",
      "Wrote graph to binary file in 0.014919757843017578 seconds\n",
      "Running Louvain modularity optimization\n",
      "After 1 runs, maximum modularity is Q = 0.608131\n",
      "After 4 runs, maximum modularity is Q = 0.610851\n",
      "Louvain completed 24 runs in 0.368267297744751 seconds\n",
      "PhenoGraph complete in 0.5367317199707031 seconds\n",
      "Finding 30 nearest neighbors using minkowski metric and 'auto' algorithm\n",
      "Neighbors computed in 0.0021173954010009766 seconds\n",
      "Jaccard graph constructed in 0.04088258743286133 seconds\n",
      "Wrote graph to binary file in 0.004517316818237305 seconds\n",
      "Running Louvain modularity optimization\n",
      "After 1 runs, maximum modularity is Q = 0.499618\n",
      "After 2 runs, maximum modularity is Q = 0.501269\n",
      "Louvain completed 22 runs in 0.24683785438537598 seconds\n",
      "PhenoGraph complete in 0.29785823822021484 seconds\n",
      "Finding 30 nearest neighbors using minkowski metric and 'auto' algorithm\n",
      "Neighbors computed in 0.020282268524169922 seconds\n",
      "Jaccard graph constructed in 0.21695160865783691 seconds\n",
      "Wrote graph to binary file in 0.025563716888427734 seconds\n",
      "Running Louvain modularity optimization\n",
      "After 1 runs, maximum modularity is Q = 0.621198\n",
      "After 2 runs, maximum modularity is Q = 0.622227\n",
      "After 5 runs, maximum modularity is Q = 0.625321\n",
      "Louvain completed 25 runs in 0.5028364658355713 seconds\n",
      "PhenoGraph complete in 0.7743768692016602 seconds\n",
      "Finding 30 nearest neighbors using minkowski metric and 'auto' algorithm\n",
      "Neighbors computed in 0.041408538818359375 seconds\n",
      "Jaccard graph constructed in 0.3833129405975342 seconds\n",
      "Wrote graph to binary file in 0.08179926872253418 seconds\n",
      "Running Louvain modularity optimization\n",
      "After 1 runs, maximum modularity is Q = 0.702521\n",
      "After 2 runs, maximum modularity is Q = 0.704862\n",
      "After 8 runs, maximum modularity is Q = 0.706892\n",
      "Louvain completed 28 runs in 0.8145301342010498 seconds\n",
      "PhenoGraph complete in 1.3346927165985107 seconds\n",
      "Finding 30 nearest neighbors using minkowski metric and 'auto' algorithm\n",
      "Neighbors computed in 3.4202001094818115 seconds\n",
      "Jaccard graph constructed in 6.498268365859985 seconds\n",
      "Wrote graph to binary file in 1.2497470378875732 seconds\n",
      "Running Louvain modularity optimization\n",
      "After 1 runs, maximum modularity is Q = 0.845626\n",
      "After 3 runs, maximum modularity is Q = 0.847706\n",
      "Louvain completed 23 runs in 15.585361957550049 seconds\n",
      "PhenoGraph complete in 27.035513877868652 seconds\n",
      "Finding 30 nearest neighbors using minkowski metric and 'auto' algorithm\n",
      "Neighbors computed in 11.212930917739868 seconds\n",
      "Jaccard graph constructed in 5.476027488708496 seconds\n",
      "Wrote graph to binary file in 3.6362407207489014 seconds\n",
      "Running Louvain modularity optimization\n",
      "After 1 runs, maximum modularity is Q = 0.875982\n",
      "Louvain completed 21 runs in 80.84744191169739 seconds\n",
      "PhenoGraph complete in 102.04804277420044 seconds\n"
     ]
    },
    {
     "ename": "NameError",
     "evalue": "name 'key' is not defined",
     "output_type": "error",
     "traceback": [
      "\u001b[0;31m---------------------------------------------------------------------------\u001b[0m",
      "\u001b[0;31mNameError\u001b[0m                                 Traceback (most recent call last)",
      "\u001b[0;32m<ipython-input-5-116568f1bd2b>\u001b[0m in \u001b[0;36m<module>\u001b[0;34m()\u001b[0m\n\u001b[1;32m     61\u001b[0m     \u001b[0mresult\u001b[0m\u001b[0;34m.\u001b[0m\u001b[0mappend\u001b[0m\u001b[0;34m(\u001b[0m\u001b[0;34m(\u001b[0m\u001b[0my_true\u001b[0m\u001b[0;34m,\u001b[0m \u001b[0my_pred\u001b[0m\u001b[0;34m,\u001b[0m \u001b[0my_pred_index\u001b[0m\u001b[0;34m,\u001b[0m \u001b[0my_pred_oracle\u001b[0m\u001b[0;34m)\u001b[0m\u001b[0;34m)\u001b[0m\u001b[0;34m\u001b[0m\u001b[0m\n\u001b[1;32m     62\u001b[0m \u001b[0;34m\u001b[0m\u001b[0m\n\u001b[0;32m---> 63\u001b[0;31m     \u001b[0mpickle\u001b[0m\u001b[0;34m.\u001b[0m\u001b[0mdump\u001b[0m\u001b[0;34m(\u001b[0m\u001b[0mresult\u001b[0m\u001b[0;34m,\u001b[0m \u001b[0mopen\u001b[0m\u001b[0;34m(\u001b[0m\u001b[0;34m'processed_file/BMMC/event_classidication_BMMC_%s.p'\u001b[0m \u001b[0;34m%\u001b[0m \u001b[0mkey\u001b[0m\u001b[0;34m,\u001b[0m \u001b[0;34m'wb'\u001b[0m\u001b[0;34m)\u001b[0m\u001b[0;34m)\u001b[0m\u001b[0;34m\u001b[0m\u001b[0m\n\u001b[0m",
      "\u001b[0;31mNameError\u001b[0m: name 'key' is not defined"
     ]
    }
   ],
   "source": [
    "import time\n",
    "\n",
    "skf = StratifiedKFold(y0, n_folds=5, shuffle=True, random_state=0)\n",
    "result = []\n",
    "score_final = []\n",
    "\n",
    "\n",
    "process_time = []\n",
    "c = 0\n",
    "for tr, te in skf:\n",
    "    print('%02d th batch' % c)\n",
    "    if c == 1:\n",
    "        break\n",
    "    c += 1\n",
    "    \n",
    "    X = X0.copy()\n",
    "    y_true = y0.copy()\n",
    "\n",
    "    X = X[tr, :]\n",
    "    y_true = y_true[tr]\n",
    "\n",
    "    mk_model =  compute_marker_model(pd.DataFrame(X, columns = channels), table, 0.0)\n",
    "\n",
    "    ## compute posterior probs\n",
    "    tic = time.clock()\n",
    "    score = get_score_mat(X, [], table, [], mk_model)\n",
    "    score = np.concatenate([score, 1.0 - score.max(axis = 1)[:, np.newaxis]], axis = 1)    \n",
    "\n",
    "    ## get indices     \n",
    "    ct_index = get_unique_index(X, score, table, thres)\n",
    "    \n",
    "    ## baseline - classify events    \n",
    "    y_pred_index = np.argmax(score, axis = 1)\n",
    "    \n",
    "    toc = time.clock()\n",
    "    time0 = toc - tic\n",
    "    \n",
    "    \n",
    "    \n",
    "    ## running ACDC\n",
    "    tic = time.clock()\n",
    "    res_c = get_landmarks(X, score, ct_index, idx2ct, phenograph, thres)\n",
    "\n",
    "    landmark_mat, landmark_label = output_feature_matrix(res_c, [idx2ct[i] for i in range(len(idx2ct))]) \n",
    "\n",
    "    landmark_label = np.array(landmark_label)\n",
    "\n",
    "    lp, y_pred = rm_classify(X, landmark_mat, landmark_label, n_neighbor)\n",
    "\n",
    "    process_time.append(toc-tic)\n",
    "    \n",
    "    res = phenograph.cluster(X, k=30, directed=False, prune=False, min_cluster_size=10, jaccard=True,\n",
    "                        primary_metric='euclidean', n_jobs=-1, q_tol=1e-3)\n",
    "    \n",
    "    toc = time.clock()\n",
    "    time1 = toc - tic\n",
    "    \n",
    "    \n",
    "    ## running phenograph classification\n",
    "    tic = time.clock()\n",
    "    y_pred_oracle = np.zeros_like(y_true)\n",
    "    for i in range(max(res[0])+1):\n",
    "        ic, nc = Counter(y_true[res[0] == i]).most_common(1)[0]\n",
    "        y_pred_oracle[res[0] == i] = ic\n",
    "        \n",
    "    score_final.append([accuracy_score(y_true, [ct2idx[c] for c in y_pred]), \n",
    "                    accuracy_score(y_true, y_pred_index), \n",
    "                    accuracy_score(y_true, y_pred_oracle)])\n",
    "    \n",
    "    toc = time.clock()\n",
    "    time2 = toc - tic   \n",
    "    \n",
    "    \n",
    "    result.append((y_true, y_pred, y_pred_index, y_pred_oracle))\n",
    "    process_time.append((time0, time1, time2))\n",
    "    \n",
    "    pickle.dump(result, open('processed_file/BMMC/event_classidication_BMMC.p', 'wb'))"
   ]
  },
  {
   "cell_type": "code",
   "execution_count": 6,
   "metadata": {
    "collapsed": false
   },
   "outputs": [
    {
     "data": {
      "text/plain": [
       "array([ 0.93485143,  0.80085335,  0.92933062])"
      ]
     },
     "execution_count": 6,
     "metadata": {},
     "output_type": "execute_result"
    }
   ],
   "source": [
    "np.mean(score_final, axis = 0) # score of ACDC, score-based classification, phenograph classification"
   ]
  },
  {
   "cell_type": "code",
   "execution_count": 7,
   "metadata": {
    "collapsed": false
   },
   "outputs": [
    {
     "data": {
      "text/plain": [
       "[[0.9348514276101485, 0.80085335453975437, 0.92933062135833244]]"
      ]
     },
     "execution_count": 7,
     "metadata": {},
     "output_type": "execute_result"
    }
   ],
   "source": [
    "score_final"
   ]
  },
  {
   "cell_type": "code",
   "execution_count": 8,
   "metadata": {
    "collapsed": false
   },
   "outputs": [
    {
     "data": {
      "text/plain": [
       "3787.3347659999999"
      ]
     },
     "execution_count": 8,
     "metadata": {},
     "output_type": "execute_result"
    }
   ],
   "source": [
    "np.mean(process_time, axis = 0)"
   ]
  },
  {
   "cell_type": "code",
   "execution_count": null,
   "metadata": {
    "collapsed": true
   },
   "outputs": [],
   "source": []
  }
 ],
 "metadata": {
  "anaconda-cloud": {},
  "kernelspec": {
   "display_name": "Python [conda env:py35]",
   "language": "python",
   "name": "conda-env-py35-py"
  },
  "language_info": {
   "codemirror_mode": {
    "name": "ipython",
    "version": 3
   },
   "file_extension": ".py",
   "mimetype": "text/x-python",
   "name": "python",
   "nbconvert_exporter": "python",
   "pygments_lexer": "ipython3",
   "version": "3.5.2"
  }
 },
 "nbformat": 4,
 "nbformat_minor": 1
}
