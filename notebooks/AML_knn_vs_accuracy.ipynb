{
 "cells": [
  {
   "cell_type": "code",
   "execution_count": 1,
   "metadata": {
    "collapsed": true
   },
   "outputs": [],
   "source": [
    "from ACDC.random_walk_classifier import * \n",
    "from ACDC.cell_type_annotation import * "
   ]
  },
  {
   "cell_type": "code",
   "execution_count": 2,
   "metadata": {
    "collapsed": false
   },
   "outputs": [],
   "source": [
    "import pandas as pd\n",
    "import numpy as np\n",
    "from collections import Counter\n",
    "\n",
    "path = 'data/AML_benchmark/'\n",
    "df = pd.read_csv(path + 'AML_benchmark.csv.gz', sep=',', header = 0, compression = 'gzip')\n",
    "df = df.drop(['Time', 'Cell_length','file_number', 'event_number', 'DNA1(Ir191)Di',\n",
    "              'DNA2(Ir193)Di', 'Viability(Pt195)Di', 'subject'], axis = 1)\n",
    "\n",
    "channels = [item[:item.find('(')] for item in df.columns[:-1]]\n",
    "df.columns = channels + ['cell_type']\n",
    "\n",
    "\n",
    "df = df.loc[df['cell_type'] != 'NotDebrisSinglets']\n",
    "\n",
    "table = pd.read_csv(path + 'AML_table.csv', sep=',', header=0, index_col=0)\n",
    "table = table.fillna(0)\n",
    "\n",
    "cts, channels = get_label(table)\n"
   ]
  },
  {
   "cell_type": "code",
   "execution_count": 3,
   "metadata": {
    "collapsed": false
   },
   "outputs": [],
   "source": [
    "X0= np.arcsinh((df[channels].values - 1.0)/5.0)\n",
    "\n",
    "idx2ct = [key for idx, key in enumerate(table.index)]\n",
    "idx2ct.append('unknown')\n",
    "\n",
    "ct2idx = {key:idx for idx, key in enumerate(table.index)}\n",
    "ct2idx['unknown'] = len(table.index)\n",
    "        \n",
    "ct_score = np.abs(table.as_matrix()).sum(axis = 1)\n",
    "\n",
    "## compute manual gated label\n",
    "y0 = np.zeros(df.cell_type.shape)\n",
    "\n",
    "for i, ct in enumerate(df.cell_type):\n",
    "    if ct in ct2idx:\n",
    "        y0[i] = ct2idx[ct]\n",
    "    else:\n",
    "        y0[i] = ct2idx['unknown']\n",
    "        "
   ]
  },
  {
   "cell_type": "code",
   "execution_count": 4,
   "metadata": {
    "collapsed": false
   },
   "outputs": [
    {
     "name": "stdout",
     "output_type": "stream",
     "text": [
      "Finding 30 nearest neighbors using minkowski metric and 'auto' algorithm\n",
      "Neighbors computed in 81.13759088516235 seconds\n",
      "Jaccard graph constructed in 8.448960304260254 seconds\n",
      "Wrote graph to binary file in 5.9023706912994385 seconds\n",
      "Running Louvain modularity optimization\n",
      "After 1 runs, maximum modularity is Q = 0.873828\n",
      "After 11 runs, maximum modularity is Q = 0.875041\n",
      "Louvain completed 31 runs in 172.93613123893738 seconds\n",
      "PhenoGraph complete in 269.9322965145111 seconds\n",
      "550.4218629999999\n"
     ]
    }
   ],
   "source": [
    "import phenograph\n",
    "\n",
    "tic = time.clock()\n",
    "phenograph.cluster(X0)\n",
    "toc = time.clock()\n",
    "print(toc-tic)"
   ]
  },
  {
   "cell_type": "code",
   "execution_count": 5,
   "metadata": {
    "collapsed": false
   },
   "outputs": [],
   "source": [
    "from sklearn.metrics import accuracy_score, confusion_matrix\n",
    "\n",
    "\n",
    "thres = 0.5\n"
   ]
  },
  {
   "cell_type": "code",
   "execution_count": 6,
   "metadata": {
    "collapsed": false,
    "scrolled": true
   },
   "outputs": [
    {
     "name": "stdout",
     "output_type": "stream",
     "text": [
      "Finding 30 nearest neighbors using minkowski metric and 'auto' algorithm\n",
      "Neighbors computed in 0.10385346412658691 seconds\n",
      "Jaccard graph constructed in 0.15057158470153809 seconds\n",
      "Wrote graph to binary file in 0.040326833724975586 seconds\n",
      "Running Louvain modularity optimization\n",
      "After 1 runs, maximum modularity is Q = 0.605397\n",
      "After 14 runs, maximum modularity is Q = 0.606565\n",
      "Louvain completed 34 runs in 0.8924710750579834 seconds\n",
      "PhenoGraph complete in 1.1986892223358154 seconds\n",
      "Finding 30 nearest neighbors using minkowski metric and 'auto' algorithm\n",
      "Neighbors computed in 6.7386720180511475 seconds\n",
      "Jaccard graph constructed in 1.5939991474151611 seconds\n",
      "Wrote graph to binary file in 0.6559884548187256 seconds\n",
      "Running Louvain modularity optimization\n",
      "After 1 runs, maximum modularity is Q = 0.664857\n",
      "After 4 runs, maximum modularity is Q = 0.668278\n",
      "Louvain completed 24 runs in 15.0370032787323 seconds\n",
      "PhenoGraph complete in 24.246049642562866 seconds\n",
      "Finding 30 nearest neighbors using minkowski metric and 'auto' algorithm\n",
      "Neighbors computed in 2.4178426265716553 seconds\n",
      "Jaccard graph constructed in 0.9036805629730225 seconds\n",
      "Wrote graph to binary file in 0.476238489151001 seconds\n",
      "Running Louvain modularity optimization\n",
      "After 1 runs, maximum modularity is Q = 0.597997\n",
      "After 8 runs, maximum modularity is Q = 0.59926\n",
      "After 11 runs, maximum modularity is Q = 0.600478\n",
      "After 26 runs, maximum modularity is Q = 0.602056\n",
      "After 32 runs, maximum modularity is Q = 0.60324\n",
      "Louvain completed 52 runs in 15.815172672271729 seconds\n",
      "PhenoGraph complete in 19.72424340248108 seconds\n",
      "Finding 30 nearest neighbors using minkowski metric and 'auto' algorithm\n",
      "Neighbors computed in 0.20618534088134766 seconds\n",
      "Jaccard graph constructed in 0.39908885955810547 seconds\n",
      "Wrote graph to binary file in 0.10601639747619629 seconds\n",
      "Running Louvain modularity optimization\n",
      "After 1 runs, maximum modularity is Q = 0.621982\n",
      "After 2 runs, maximum modularity is Q = 0.628568\n",
      "After 10 runs, maximum modularity is Q = 0.631505\n",
      "Louvain completed 30 runs in 2.294299602508545 seconds\n",
      "PhenoGraph complete in 3.038677215576172 seconds\n",
      "Finding 30 nearest neighbors using minkowski metric and 'auto' algorithm\n",
      "Neighbors computed in 0.20606231689453125 seconds\n",
      "Jaccard graph constructed in 0.2662491798400879 seconds\n",
      "Wrote graph to binary file in 0.11989736557006836 seconds\n",
      "Running Louvain modularity optimization\n",
      "After 1 runs, maximum modularity is Q = 0.590108\n",
      "After 6 runs, maximum modularity is Q = 0.593774\n",
      "After 11 runs, maximum modularity is Q = 0.597081\n",
      "Louvain completed 31 runs in 1.6902837753295898 seconds\n",
      "PhenoGraph complete in 2.3088531494140625 seconds\n",
      "Finding 30 nearest neighbors using minkowski metric and 'auto' algorithm\n",
      "Neighbors computed in 0.20549488067626953 seconds\n",
      "Jaccard graph constructed in 0.30216002464294434 seconds\n",
      "Wrote graph to binary file in 0.16217851638793945 seconds\n",
      "Running Louvain modularity optimization\n",
      "After 1 runs, maximum modularity is Q = 0.674011\n",
      "After 3 runs, maximum modularity is Q = 0.67657\n",
      "Louvain completed 23 runs in 1.484055757522583 seconds\n",
      "PhenoGraph complete in 2.1831648349761963 seconds\n",
      "Finding 30 nearest neighbors using minkowski metric and 'auto' algorithm\n",
      "Neighbors computed in 0.10338735580444336 seconds\n",
      "Jaccard graph constructed in 0.14640283584594727 seconds\n",
      "Wrote graph to binary file in 0.034757375717163086 seconds\n",
      "Running Louvain modularity optimization\n",
      "After 1 runs, maximum modularity is Q = 0.681842\n",
      "After 3 runs, maximum modularity is Q = 0.683503\n",
      "After 4 runs, maximum modularity is Q = 0.684945\n",
      "After 13 runs, maximum modularity is Q = 0.686196\n",
      "Louvain completed 33 runs in 0.9761221408843994 seconds\n",
      "PhenoGraph complete in 1.270576000213623 seconds\n",
      "Finding 30 nearest neighbors using minkowski metric and 'auto' algorithm\n",
      "Neighbors computed in 0.10541701316833496 seconds\n",
      "Jaccard graph constructed in 0.12282609939575195 seconds\n",
      "Wrote graph to binary file in 0.025124073028564453 seconds\n",
      "Running Louvain modularity optimization\n",
      "After 1 runs, maximum modularity is Q = 0.507164\n",
      "Louvain completed 21 runs in 0.49417543411254883 seconds\n",
      "PhenoGraph complete in 0.7555124759674072 seconds\n",
      "Finding 30 nearest neighbors using minkowski metric and 'auto' algorithm\n",
      "Neighbors computed in 1.8238046169281006 seconds\n",
      "Jaccard graph constructed in 1.167470932006836 seconds\n",
      "Wrote graph to binary file in 0.6275053024291992 seconds\n",
      "Running Louvain modularity optimization\n",
      "After 1 runs, maximum modularity is Q = 0.644127\n",
      "After 6 runs, maximum modularity is Q = 0.648632\n",
      "After 10 runs, maximum modularity is Q = 0.649855\n",
      "Louvain completed 30 runs in 11.426405191421509 seconds\n",
      "PhenoGraph complete in 15.176970958709717 seconds\n",
      "Finding 30 nearest neighbors using minkowski metric and 'auto' algorithm\n",
      "Neighbors computed in 0.1027376651763916 seconds\n",
      "Jaccard graph constructed in 0.10723257064819336 seconds\n",
      "Wrote graph to binary file in 0.01694774627685547 seconds\n",
      "Running Louvain modularity optimization\n",
      "After 1 runs, maximum modularity is Q = 0.60377\n",
      "After 2 runs, maximum modularity is Q = 0.607273\n",
      "After 5 runs, maximum modularity is Q = 0.610223\n",
      "After 18 runs, maximum modularity is Q = 0.612441\n",
      "After 37 runs, maximum modularity is Q = 0.613607\n",
      "Louvain completed 57 runs in 1.3276286125183105 seconds\n",
      "PhenoGraph complete in 1.5608036518096924 seconds\n",
      "Finding 30 nearest neighbors using minkowski metric and 'auto' algorithm\n",
      "Neighbors computed in 1.1174216270446777 seconds\n",
      "Jaccard graph constructed in 0.8027851581573486 seconds\n",
      "Wrote graph to binary file in 0.40428876876831055 seconds\n",
      "Running Louvain modularity optimization\n",
      "After 1 runs, maximum modularity is Q = 0.71862\n",
      "After 3 runs, maximum modularity is Q = 0.720427\n",
      "Louvain completed 23 runs in 4.605095863342285 seconds\n",
      "PhenoGraph complete in 7.0100767612457275 seconds\n",
      "Finding 30 nearest neighbors using minkowski metric and 'auto' algorithm\n",
      "Neighbors computed in 0.10333728790283203 seconds\n",
      "Jaccard graph constructed in 0.12172508239746094 seconds\n",
      "Wrote graph to binary file in 0.02222299575805664 seconds\n",
      "Running Louvain modularity optimization\n",
      "After 1 runs, maximum modularity is Q = 0.535495\n",
      "After 8 runs, maximum modularity is Q = 0.538489\n",
      "After 13 runs, maximum modularity is Q = 0.540448\n",
      "Louvain completed 33 runs in 0.8009428977966309 seconds\n",
      "PhenoGraph complete in 1.0558342933654785 seconds\n",
      "Finding 30 nearest neighbors using minkowski metric and 'auto' algorithm\n",
      "Neighbors computed in 4.629947185516357 seconds\n",
      "Jaccard graph constructed in 1.4083771705627441 seconds\n",
      "Wrote graph to binary file in 0.8344380855560303 seconds\n",
      "Running Louvain modularity optimization\n",
      "After 1 runs, maximum modularity is Q = 0.665057\n",
      "After 2 runs, maximum modularity is Q = 0.670845\n",
      "After 3 runs, maximum modularity is Q = 0.672702\n",
      "After 5 runs, maximum modularity is Q = 0.680399\n",
      "Louvain completed 25 runs in 12.609230995178223 seconds\n",
      "PhenoGraph complete in 19.668542861938477 seconds\n",
      "Finding 30 nearest neighbors using minkowski metric and 'auto' algorithm\n",
      "Neighbors computed in 0.10323452949523926 seconds\n",
      "Jaccard graph constructed in 0.18656158447265625 seconds\n",
      "Wrote graph to binary file in 0.05673670768737793 seconds\n",
      "Running Louvain modularity optimization\n",
      "After 1 runs, maximum modularity is Q = 0.644785\n",
      "After 2 runs, maximum modularity is Q = 0.647761\n",
      "After 17 runs, maximum modularity is Q = 0.650691\n",
      "Louvain completed 37 runs in 1.354407787322998 seconds\n",
      "PhenoGraph complete in 1.7155108451843262 seconds\n",
      "Finding 30 nearest neighbors using minkowski metric and 'auto' algorithm\n",
      "Neighbors computed in 6.746325731277466 seconds\n",
      "Jaccard graph constructed in 2.2411816120147705 seconds\n",
      "Wrote graph to binary file in 1.349266767501831 seconds\n",
      "Running Louvain modularity optimization\n",
      "After 1 runs, maximum modularity is Q = 0.850554\n",
      "Louvain completed 21 runs in 17.118605613708496 seconds\n",
      "PhenoGraph complete in 27.751226902008057 seconds\n"
     ]
    }
   ],
   "source": [
    "import time\n",
    "\n",
    "result = []\n",
    "score_final = []\n",
    "process_time = []\n",
    "\n",
    "    \n",
    "X = X0\n",
    "y_true = y0\n",
    "\n",
    "tic = time.clock()\n",
    "mk_model =  compute_marker_model(pd.DataFrame(X, columns = channels), table, 0.0)\n",
    "\n",
    "## compute posterior probs\n",
    "score = get_score_mat(X, [], table, [], mk_model)\n",
    "score = np.concatenate([score, 1.0 - score.max(axis = 1)[:, np.newaxis]], axis = 1)    \n",
    "\n",
    "## get indices     \n",
    "ct_index = get_unique_index(X, score, table, thres)\n",
    "    \n",
    "\n",
    "## running ACDC\n",
    "tic = time.clock()\n",
    "res_c = get_landmarks(X, score, ct_index, idx2ct, phenograph, thres)\n",
    "\n",
    "landmark_mat, landmark_label = output_feature_matrix(res_c, [idx2ct[i] for i in range(len(idx2ct))]) \n",
    "\n",
    "landmark_label = np.array(landmark_label)\n",
    "\n",
    "toc = time.clock()\n",
    "\n",
    "time0 = toc - tic"
   ]
  },
  {
   "cell_type": "code",
   "execution_count": 7,
   "metadata": {
    "collapsed": false
   },
   "outputs": [
    {
     "name": "stdout",
     "output_type": "stream",
     "text": [
      "[884.4606950000002]\n",
      "[0.98361552637641092]\n",
      "[884.4606950000002, 992.7849330000001]\n",
      "[0.98361552637641092, 0.98305881901251635]\n",
      "[884.4606950000002, 992.7849330000001, 1077.234291]\n",
      "[0.98361552637641092, 0.98305881901251635, 0.98250211164862167]\n"
     ]
    }
   ],
   "source": [
    "score_final = []\n",
    "process_time = []\n",
    "for n_neighbor in [10, 20, 30]:\n",
    "    tic = time.clock()\n",
    "    \n",
    "    lp, y_pred = rm_classify(X, landmark_mat, landmark_label, n_neighbor)\n",
    "    \n",
    "    toc = time.clock()\n",
    "    time1 = toc - tic\n",
    "    \n",
    "    process_time.append(time0 + time1)\n",
    "\n",
    "    score_final.append(accuracy_score(y_true, [ct2idx[c] for c in y_pred]))    \n",
    "    \n",
    "    print(process_time)\n",
    "    print(score_final)"
   ]
  },
  {
   "cell_type": "code",
   "execution_count": 8,
   "metadata": {
    "collapsed": false
   },
   "outputs": [
    {
     "data": {
      "text/plain": [
       "(104184, 33)"
      ]
     },
     "execution_count": 8,
     "metadata": {},
     "output_type": "execute_result"
    }
   ],
   "source": [
    "df.shape"
   ]
  },
  {
   "cell_type": "code",
   "execution_count": null,
   "metadata": {
    "collapsed": true
   },
   "outputs": [],
   "source": []
  }
 ],
 "metadata": {
  "anaconda-cloud": {},
  "kernelspec": {
   "display_name": "Python [conda env:py35]",
   "language": "python",
   "name": "conda-env-py35-py"
  },
  "language_info": {
   "codemirror_mode": {
    "name": "ipython",
    "version": 3
   },
   "file_extension": ".py",
   "mimetype": "text/x-python",
   "name": "python",
   "nbconvert_exporter": "python",
   "pygments_lexer": "ipython3",
   "version": "3.5.2"
  }
 },
 "nbformat": 4,
 "nbformat_minor": 1
}
